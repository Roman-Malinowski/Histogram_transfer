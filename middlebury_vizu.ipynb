{
 "cells": [
  {
   "cell_type": "code",
   "execution_count": 1,
   "id": "04afa7d4-b158-4112-a67e-b7883389bc30",
   "metadata": {},
   "outputs": [],
   "source": [
    "import os.path as op\n",
    "import numpy as np\n",
    "import cv2 as cv\n",
    "\n",
    "import matplotlib.pyplot as plt\n",
    "import plotly.graph_objects as go"
   ]
  },
  {
   "cell_type": "code",
   "execution_count": 2,
   "id": "833844c6-d312-4518-a001-fc575a035a12",
   "metadata": {},
   "outputs": [],
   "source": [
    "prefix = \"/work/scratch/malinoro/histogram_transfer\""
   ]
  },
  {
   "cell_type": "code",
   "execution_count": 3,
   "id": "9e3de4cf-4b51-4c74-b2ce-662d5f9d2654",
   "metadata": {},
   "outputs": [],
   "source": [
    "img1 = cv.cvtColor(cv.imread(op.join(prefix, \"conesF\", \"im2.ppm\")), cv.COLOR_BGR2RGB)\n",
    "img2 = cv.cvtColor(cv.imread(op.join(prefix, \"teddyF\", \"im2.ppm\")), cv.COLOR_BGR2RGB)\n",
    "\n",
    "bgr1_planes = cv.split(img1)\n",
    "bgr2_planes = cv.split(img2)"
   ]
  },
  {
   "cell_type": "code",
   "execution_count": null,
   "id": "7101002e-40d4-4d2a-a788-b0dcfd4b0ed4",
   "metadata": {},
   "outputs": [],
   "source": [
    "fig, axes = plt.subplots(nrows=3, ncols=2, figsize=(10,10))\n",
    "axes[0, 0].imshow(img1)\n",
    "axes[0, 1].imshow(img2)\n",
    "\n",
    "n_bins = 80\n",
    "for k, c in zip(range(3), [\"b\", \"g\", \"r\"]):\n",
    "    counts, bins = np.histogram(bgr1_planes[k], bins=n_bins, density=True)\n",
    "    axes[1, 0].stairs(counts, bins, color=c)\n",
    "    axes[2, 0].stairs(np.cumsum(counts), bins, baseline=None, color=c)\n",
    "    \n",
    "    counts, bins = np.histogram(bgr2_planes[k], bins=n_bins, density=True)\n",
    "    axes[1, 1].stairs(counts, bins, color=c)\n",
    "    axes[2, 1].stairs(np.cumsum(counts), bins, baseline=None, color=c)\n",
    "    \n",
    "plt.show()"
   ]
  },
  {
   "cell_type": "code",
   "execution_count": null,
   "id": "5f55f491-66ee-47db-9de4-c17ba7221f1e",
   "metadata": {},
   "outputs": [],
   "source": [
    "bins_3d = (20, 20, 20)\n",
    "\n",
    "counts, _ = np.histogramdd(np.array(img1).reshape(-1, 3), bins=bins_3d, density=True)\n",
    "X, Y, Z = np.meshgrid(*[np.linspace(0, 255, b) for b in bins_3d])\n",
    "\n",
    "fig = go.Figure(data=go.Volume(\n",
    "    x=X.flatten(),\n",
    "    y=Y.flatten(),\n",
    "    z=Z.flatten(),\n",
    "    isomin=counts.min(),\n",
    "    isomax=counts.max(),\n",
    "    value=counts.flatten(),\n",
    "    opacity=0.1, # needs to be small to see through all surfaces\n",
    "    surface_count=17, # needs to be a large number for good volume rendering\n",
    "    ))\n",
    "\n",
    "fig.show()"
   ]
  },
  {
   "cell_type": "markdown",
   "id": "7c9ee79c-9f05-4772-9db0-6a80304a2a7c",
   "metadata": {},
   "source": [
    "### This proves that the histogram is correctly computed (raw format)"
   ]
  },
  {
   "cell_type": "raw",
   "id": "ac3d1c81-8e4f-4c5b-a50a-cf6b1ea58a3b",
   "metadata": {},
   "source": [
    "fig = plt.figure(figsize=(5,5))\n",
    "\n",
    "counts, bins = np.histogramdd(np.array(img1).reshape(-1, 3), bins=(n_bins, n_bins, n_bins), density=True)\n",
    "\n",
    "plt.stairs(np.sum(counts, axis=(1, 2)), bins[0], color=\"b\")\n",
    "plt.stairs(np.sum(counts, axis=(0, 2)), bins[1], color=\"g\")\n",
    "plt.stairs(np.sum(counts, axis=(0, 1)), bins[2], color=\"r\")\n",
    "\n",
    "plt.show()"
   ]
  },
  {
   "cell_type": "code",
   "execution_count": null,
   "id": "f082994c-9982-4b5b-a408-e288bd81f5f2",
   "metadata": {},
   "outputs": [],
   "source": [
    "X, Y, Z = np.mgrid[-8:8:40j, -8:8:40j, -8:8:40j]\n",
    "values = np.sin(X*Y*Z) / (X*Y*Z)\n",
    "\n",
    "fig = go.Figure(data=go.Volume(\n",
    "    x=X.flatten(),\n",
    "    y=Y.flatten(),\n",
    "    z=Z.flatten(),\n",
    "    value=values.flatten(),\n",
    "    isomin=0.1,\n",
    "    isomax=0.8,\n",
    "    opacity=0.1, # needs to be small to see through all surfaces\n",
    "    surface_count=17, # needs to be a large number for good volume rendering\n",
    "    ))\n",
    "fig.show()"
   ]
  },
  {
   "cell_type": "code",
   "execution_count": null,
   "id": "e159927a-f02c-4c8a-8778-24d8131fd539",
   "metadata": {},
   "outputs": [],
   "source": []
  }
 ],
 "metadata": {
  "kernelspec": {
   "display_name": "venv_hist_processing",
   "language": "python",
   "name": "venv_hist_processing"
  },
  "language_info": {
   "codemirror_mode": {
    "name": "ipython",
    "version": 3
   },
   "file_extension": ".py",
   "mimetype": "text/x-python",
   "name": "python",
   "nbconvert_exporter": "python",
   "pygments_lexer": "ipython3",
   "version": "3.8.4"
  }
 },
 "nbformat": 4,
 "nbformat_minor": 5
}
