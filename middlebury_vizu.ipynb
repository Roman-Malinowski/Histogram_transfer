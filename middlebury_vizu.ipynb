{
 "cells": [
  {
   "cell_type": "code",
   "execution_count": null,
   "id": "04afa7d4-b158-4112-a67e-b7883389bc30",
   "metadata": {},
   "outputs": [],
   "source": [
    "import os.path as op\n",
    "import numpy as np\n",
    "import cv2 as cv\n",
    "\n",
    "import matplotlib.pyplot as plt\n",
    "import plotly.graph_objects as go"
   ]
  },
  {
   "cell_type": "code",
   "execution_count": null,
   "id": "833844c6-d312-4518-a001-fc575a035a12",
   "metadata": {},
   "outputs": [],
   "source": [
    "prefix = \"/work/scratch/malinoro/histogram_transfer\""
   ]
  },
  {
   "cell_type": "code",
   "execution_count": null,
   "id": "9e3de4cf-4b51-4c74-b2ce-662d5f9d2654",
   "metadata": {},
   "outputs": [],
   "source": [
    "img1 = cv.cvtColor(cv.imread(op.join(prefix, \"conesF\", \"im2.ppm\")), cv.COLOR_BGR2RGB)\n",
    "img2 = cv.cvtColor(cv.imread(op.join(prefix, \"teddyF\", \"im2.ppm\")), cv.COLOR_BGR2RGB)\n",
    "\n",
    "## Fake image\n",
    "X, Y = np.meshgrid(np.linspace(0, 255, img1.shape[0]), np.linspace(0, 255, img1.shape[1]))\n",
    "R, G, B = np.sqrt((X**2+Y**2)/2), np.sqrt(((255-X)**2+Y**2)/2), np.sqrt(((255-X)**2+(255-Y)**2)/2)\n",
    "R, G, B = R.astype(dtype=int), G.astype(dtype=int), B.astype(dtype=int) \n",
    "img0 = cv.merge([B, G, R])"
   ]
  },
  {
   "cell_type": "code",
   "execution_count": null,
   "id": "00a29fdb-9fce-4add-ac06-fda7d905b892",
   "metadata": {},
   "outputs": [],
   "source": [
    "img = img0\n",
    "bgr_planes = cv.split(img)"
   ]
  },
  {
   "cell_type": "code",
   "execution_count": null,
   "id": "7101002e-40d4-4d2a-a788-b0dcfd4b0ed4",
   "metadata": {},
   "outputs": [],
   "source": [
    "fig, axes = plt.subplots(nrows=1, ncols=3, figsize=(15,5))\n",
    "axes[0].imshow(img)\n",
    "\n",
    "n_bins = 80\n",
    "for k, c in zip(range(3), [\"b\", \"g\", \"r\"]):\n",
    "    counts, bins = np.histogram(bgr_planes[k], bins=n_bins, density=True)\n",
    "    axes[1].stairs(counts, bins, color=c)\n",
    "    axes[2].stairs(np.cumsum(counts), bins, baseline=None, color=c)\n",
    "    \n",
    "plt.show()"
   ]
  },
  {
   "cell_type": "code",
   "execution_count": null,
   "id": "5f55f491-66ee-47db-9de4-c17ba7221f1e",
   "metadata": {},
   "outputs": [],
   "source": [
    "cumulated_hist = True\n",
    "\n",
    "bins_3d = (20, 20, 20)\n",
    "X, Y, Z = np.meshgrid(*[np.linspace(0, 255, b) for b in bins_3d])\n",
    "\n",
    "\n",
    "if cumulated_hist:\n",
    "    counts, _ = np.histogramdd(np.array(img).reshape(-1, 3), bins=bins_3d)\n",
    "    counts = counts.cumsum(axis=0).cumsum(axis=1).cumsum(axis=2) / np.sum(counts)\n",
    "    iso_min, iso_max = 0, 1\n",
    "else:\n",
    "    counts, _ = np.histogramdd(np.array(img).reshape(-1, 3), bins=bins_3d, density=True)\n",
    "    iso_min, iso_max = np.quantile(counts, 0.5), counts.max()\n",
    "\n",
    "    \n",
    "fig = go.Figure(data=go.Volume(\n",
    "    x=X.flatten(),\n",
    "    y=Y.flatten(),\n",
    "    z=Z.flatten(),\n",
    "    isomin=iso_min,\n",
    "    isomax=iso_max,\n",
    "    value=counts.flatten(),\n",
    "    opacity=0.1, # needs to be small to see through all surfaces\n",
    "    surface_count=17, # needs to be a large number for good volume rendering\n",
    "    ))\n",
    "\n",
    "fig.update_layout(autosize=False, width=500, height=500, scene=dict(xaxis_title='Blue', yaxis_title='Green', zaxis_title='Red'))\n",
    "fig.show()"
   ]
  },
  {
   "cell_type": "markdown",
   "id": "7c9ee79c-9f05-4772-9db0-6a80304a2a7c",
   "metadata": {},
   "source": [
    "### This proves that the histogram is correctly computed (raw format)"
   ]
  },
  {
   "cell_type": "raw",
   "id": "ac3d1c81-8e4f-4c5b-a50a-cf6b1ea58a3b",
   "metadata": {},
   "source": [
    "fig = plt.figure(figsize=(5,5))\n",
    "\n",
    "counts, bins = np.histogramdd(np.array(img1).reshape(-1, 3), bins=(n_bins, n_bins, n_bins), density=True)\n",
    "\n",
    "plt.stairs(np.sum(counts, axis=(1, 2)), bins[0], color=\"b\")\n",
    "plt.stairs(np.sum(counts, axis=(0, 2)), bins[1], color=\"g\")\n",
    "plt.stairs(np.sum(counts, axis=(0, 1)), bins[2], color=\"r\")\n",
    "\n",
    "plt.show()"
   ]
  }
 ],
 "metadata": {
  "kernelspec": {
   "display_name": "venv_hist_processing",
   "language": "python",
   "name": "venv_hist_processing"
  },
  "language_info": {
   "codemirror_mode": {
    "name": "ipython",
    "version": 3
   },
   "file_extension": ".py",
   "mimetype": "text/x-python",
   "name": "python",
   "nbconvert_exporter": "python",
   "pygments_lexer": "ipython3",
   "version": "3.8.4"
  }
 },
 "nbformat": 4,
 "nbformat_minor": 5
}
