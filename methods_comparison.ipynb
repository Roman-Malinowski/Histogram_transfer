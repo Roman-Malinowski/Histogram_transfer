{
 "cells": [
  {
   "cell_type": "code",
   "execution_count": null,
   "id": "04afa7d4-b158-4112-a67e-b7883389bc30",
   "metadata": {},
   "outputs": [],
   "source": [
    "import warnings\n",
    "\n",
    "import os.path as op\n",
    "import numpy as np\n",
    "import cv2\n",
    "\n",
    "import matplotlib.pyplot as plt\n",
    "import plotly.graph_objects as go\n",
    "\n",
    "from ordering_methods import *\n",
    "from statistical_analysis import *"
   ]
  },
  {
   "cell_type": "code",
   "execution_count": null,
   "id": "833844c6-d312-4518-a001-fc575a035a12",
   "metadata": {},
   "outputs": [],
   "source": [
    "# prefix = \"/work/scratch/malinoro/histogram_transfer/data\"\n",
    "prefix = \"/Users/roman/Code/Histogram_transfer/data/\""
   ]
  },
  {
   "cell_type": "markdown",
   "id": "cc7c6544",
   "metadata": {},
   "source": [
    "# Reading or creating images"
   ]
  },
  {
   "cell_type": "code",
   "execution_count": null,
   "id": "9e3de4cf-4b51-4c74-b2ce-662d5f9d2654",
   "metadata": {},
   "outputs": [],
   "source": [
    "img1 = cv2.cvtColor(cv2.imread(op.join(prefix, \"MiddleBury\", \"cones.ppm\")), cv2.COLOR_BGR2RGB)\n",
    "img2 = cv2.cvtColor(cv2.imread(op.join(prefix, \"MiddleBury\", \"teddy.ppm\")), cv2.COLOR_BGR2RGB)\n",
    "img1 = cv2.resize(img1, dsize=(360, 300))\n",
    "img2 = cv2.resize(img2, dsize=(360, 300))\n",
    "\n",
    "## Fake image\n",
    "X, Y = np.meshgrid(np.linspace(0, 255, img1.shape[1]), np.linspace(0, 255, img1.shape[0]))\n",
    "R, G, B = np.sqrt((X**2+Y**2)/2), np.sqrt(((255-X)**2+Y**2)/2), np.sqrt(((255-X)**2+(255-Y)**2)/2)\n",
    "warnings.warn(\"Using numpy.astype method which always work but can be dependent of OS and other obscure stuff.\\nBe sure to check that it casts correctly on your computer\")\n",
    "R, G, B = R.astype(dtype=np.uint8), G.astype(dtype=np.uint8), B.astype(dtype=np.uint8)\n",
    "img0 = cv2.merge([R, G, B])"
   ]
  },
  {
   "cell_type": "markdown",
   "id": "513f665f",
   "metadata": {},
   "source": [
    "# Choosing and image, smoothing it, HSV, and separating channels"
   ]
  },
  {
   "cell_type": "code",
   "execution_count": null,
   "id": "00a29fdb-9fce-4add-ac06-fda7d905b892",
   "metadata": {},
   "outputs": [],
   "source": [
    "img = img1\n",
    "img_ref = img2\n",
    "\n",
    "# Smooth image\n",
    "img_smooth = cv2.GaussianBlur(img, (5, 5), 0)"
   ]
  },
  {
   "cell_type": "code",
   "execution_count": null,
   "id": "2000bdae",
   "metadata": {},
   "outputs": [],
   "source": [
    "fig, axes = plt.subplots(nrows=2, ncols=3, figsize=(10, 5))\n",
    "\n",
    "axes[0,0].imshow(img_ref)\n",
    "axes[0,0].set_title(\"Reference image\")\n",
    "axes[0,1].imshow(img)\n",
    "axes[0,1].set_title(\"Image to transfer\")\n",
    "axes[0,2].imshow(img_smooth)\n",
    "axes[0,2].set_title(\"Smoothed image\")\n",
    "\n",
    "n_bins = 80\n",
    "for k, c in zip(range(3), [\"r\", \"g\", \"b\"]):\n",
    "    counts, bins = np.histogram(img_ref[:,:,k], bins=n_bins, density=True)\n",
    "    axes[1,0].stairs(counts, bins, color=c)\n",
    "    counts, bins = np.histogram(img[:,:,k], bins=n_bins, density=True)\n",
    "    axes[1,1].stairs(counts, bins, color=c)\n",
    "    counts, bins = np.histogram(img_smooth[:,:,k], bins=n_bins, density=True)\n",
    "    axes[1,2].stairs(counts, bins, color=c)\n",
    "    \n",
    "plt.show()"
   ]
  },
  {
   "cell_type": "code",
   "execution_count": null,
   "id": "5f55f491-66ee-47db-9de4-c17ba7221f1e",
   "metadata": {},
   "outputs": [],
   "source": [
    "cumulated_hist = False\n",
    "\n",
    "bins_3d = (20, 20, 20)\n",
    "X, Y, Z = np.meshgrid(*[np.linspace(0, 255, b) for b in bins_3d])\n",
    "\n",
    "# This compute the histogram in N dimensions\n",
    "if cumulated_hist:\n",
    "    counts, hist = np.histogramdd(np.array(img).reshape(-1, 3), bins=bins_3d)\n",
    "    counts = counts.cumsum(axis=0).cumsum(axis=1).cumsum(axis=2) / np.sum(counts)\n",
    "    iso_min, iso_max = 0, 1\n",
    "else:\n",
    "    counts, hist = np.histogramdd(np.array(img).reshape(-1, 3), bins=bins_3d, density=True)\n",
    "    iso_min, iso_max = np.quantile(counts, 0.5), counts.max()\n",
    "\n",
    "    \n",
    "fig = go.Figure(data=go.Volume(\n",
    "    x=X.flatten(),\n",
    "    y=Y.flatten(),\n",
    "    z=Z.flatten(),\n",
    "    isomin=iso_min,\n",
    "    isomax=iso_max,\n",
    "    value=counts.flatten(),\n",
    "    opacity=0.1, # needs to be small to see through all surfaces\n",
    "    surface_count=17, # needs to be a large number for good volume rendering\n",
    "    ))\n",
    "\n",
    "fig.update_layout(autosize=False, width=500, height=500, scene=dict(xaxis_title='Red', yaxis_title='Green', zaxis_title='Blue'))\n",
    "fig.show()"
   ]
  },
  {
   "cell_type": "markdown",
   "id": "77c81d27",
   "metadata": {},
   "source": [
    "# Different color spaces"
   ]
  },
  {
   "cell_type": "code",
   "execution_count": null,
   "id": "8549648a",
   "metadata": {},
   "outputs": [],
   "source": [
    "image_RGB = img\n",
    "image_LAB = cv2.cvtColor(image_RGB, cv2.COLOR_RGB2LAB)\n",
    "image_HSV = cv2.cvtColor(image_RGB, cv2.COLOR_RGB2HSV)\n",
    "image_YCrCb = cv2.cvtColor(image_RGB, cv2.COLOR_RGB2YCrCb)\n",
    "image_LUV = cv2.cvtColor(image_RGB, cv2.COLOR_RGB2Luv)\n",
    "image_XYZ = cv2.cvtColor(image_RGB, cv2.COLOR_RGB2XYZ)\n",
    "image_ruderman = cvt_ruderman(image_XYZ)\n",
    "\n",
    "\n",
    "image_ref_RGB = img_ref\n",
    "image_ref_LAB = cv2.cvtColor(image_ref_RGB, cv2.COLOR_RGB2LAB)\n",
    "image_ref_HSV = cv2.cvtColor(image_ref_RGB, cv2.COLOR_RGB2HSV)\n",
    "image_ref_YCrCb = cv2.cvtColor(image_ref_RGB, cv2.COLOR_RGB2YCrCb)\n",
    "image_ref_LUV = cv2.cvtColor(image_ref_RGB, cv2.COLOR_RGB2Luv)\n",
    "image_ref_XYZ = cv2.cvtColor(image_ref_RGB, cv2.COLOR_RGB2XYZ)\n",
    "image_ref_ruderman = cvt_ruderman(image_ref_XYZ)\n",
    "\n",
    "\n",
    "out_RGB = transfer_independent_channels(image_RGB, image_ref_RGB)\n",
    "out_LAB = transfer_independent_channels(image_LAB, image_ref_LAB)\n",
    "out_HSV = transfer_independent_channels(image_HSV, image_ref_HSV)\n",
    "out_YCrCb = transfer_independent_channels(image_YCrCb, image_ref_YCrCb)\n",
    "out_LUV = transfer_independent_channels(image_LUV, image_ref_LUV)\n",
    "out_XYZ = transfer_independent_channels(image_XYZ, image_ref_XYZ)\n",
    "out_ruderman = transfer_independent_channels(image_ruderman, image_ref_ruderman)\n",
    "out_ruderman = cvt_back_ruderman(out_ruderman)\n",
    "out_ruderman[np.nonzero(~(out_ruderman>0))] = 0  # removes nan\n",
    "out_ruderman = np.round(out_ruderman).astype(dtype=out_XYZ.dtype)\n",
    "\n",
    "\n",
    "out_LAB_RGB = cv2.cvtColor(out_LAB, cv2.COLOR_LAB2RGB)\n",
    "out_HSV_RGB = cv2.cvtColor(out_HSV, cv2.COLOR_HSV2RGB)\n",
    "out_YCrCb_RGB = cv2.cvtColor(out_YCrCb, cv2.COLOR_YCrCb2RGB)\n",
    "out_LUV_RGB = cv2.cvtColor(out_LUV, cv2.COLOR_LUV2RGB)\n",
    "out_XYZ_RGB = cv2.cvtColor(out_XYZ, cv2.COLOR_XYZ2RGB)\n",
    "out_ruderman_RGB = cv2.cvtColor(out_ruderman, cv2.COLOR_XYZ2RGB)"
   ]
  },
  {
   "cell_type": "code",
   "execution_count": null,
   "id": "761ade1c",
   "metadata": {
    "scrolled": false
   },
   "outputs": [],
   "source": [
    "fig, axis = plt.subplots(nrows=3, ncols=3, figsize=(10, 10))\n",
    "axis[0,0].imshow(img_ref)\n",
    "axis[0,0].set_title(\"Image Ref\")\n",
    "axis[0,1].imshow(img)\n",
    "axis[0,1].set_title(\"Image\")\n",
    "axis[0,2].imshow(out_RGB)\n",
    "axis[0,2].set_title(\"Transfer on BGR\")\n",
    "axis[1,0].imshow(out_LAB_RGB)\n",
    "axis[1,0].set_title(\"Transfer on LAB\")\n",
    "axis[1,1].imshow(out_HSV_RGB)\n",
    "axis[1,1].set_title(\"Transfer on HSV\")\n",
    "axis[1,2].imshow(out_YCrCb_RGB)\n",
    "axis[1,2].set_title(\"Transfer on YCrCb\")\n",
    "axis[2,0].imshow(out_LUV_RGB)\n",
    "axis[2,0].set_title(\"Transfer on LUV\")\n",
    "axis[2,1].imshow(out_XYZ_RGB)\n",
    "axis[2,1].set_title(\"Transfer on XYZ\")\n",
    "axis[2,2].imshow(out_ruderman_RGB)\n",
    "axis[2,2].set_title(\"Transfer on Ruderman\");"
   ]
  },
  {
   "cell_type": "markdown",
   "id": "fd45243a",
   "metadata": {},
   "source": [
    "# TEMP"
   ]
  },
  {
   "cell_type": "code",
   "execution_count": null,
   "id": "c37e312c",
   "metadata": {},
   "outputs": [],
   "source": [
    "import pandas as pd"
   ]
  },
  {
   "cell_type": "code",
   "execution_count": null,
   "id": "cbc5d945",
   "metadata": {},
   "outputs": [],
   "source": [
    "img = cv2.cvtColor(img1, cv2.COLOR_RGB2XYZ)\n",
    "img_ref = cv2.cvtColor(img2, cv2.COLOR_RGB2XYZ)"
   ]
  },
  {
   "cell_type": "code",
   "execution_count": null,
   "id": "0806a80f",
   "metadata": {},
   "outputs": [],
   "source": [
    "kernel_size=5\n",
    "\n",
    "img_smooth = cv2.GaussianBlur(img, (kernel_size, kernel_size), 0)\n",
    "img_ref_smooth = cv2.GaussianBlur(img_ref, (kernel_size, kernel_size), 0)\n",
    "\n",
    "if img.dtype == np.dtype('uint8'):\n",
    "    warnings.warn(\"img dtype is unsigned integer. Casting to int32 to compute euclidian distance\")\n",
    "    img = img.astype(dtype=np.int32)\n",
    "    img_smooth = img_smooth.astype(dtype=np.int32)\n",
    "\n",
    "if img_ref.dtype == np.dtype('uint8'):\n",
    "    warnings.warn(\"img_ref dtype is unsigned integer. Casting to int32 to compute euclidian distance\")\n",
    "    img_ref = img_ref.astype(dtype=np.int32)\n",
    "    img_ref_smooth = img_ref_smooth.astype(dtype=np.int32)"
   ]
  },
  {
   "cell_type": "code",
   "execution_count": null,
   "id": "3e52d8d5",
   "metadata": {},
   "outputs": [],
   "source": [
    "edges_pivot_points = [[0, 0, 0], [255, 0, 0], [0, 255, 0], [0, 0, 255],\n",
    "                      [255, 255, 0], [255, 0, 255], [0, 255, 255], [255, 255, 255],\n",
    "                      [127, 0, 0], [127, 255, 0], [127, 0, 255], [127, 255, 255],\n",
    "                      [0, 127, 0], [255, 127, 0], [0, 127, 255], [255, 127, 255],\n",
    "                      [0, 0, 127], [255, 0, 127], [0, 255, 127], [255, 255, 127]]\n",
    "\n",
    "df_edges = pd.DataFrame(columns=[\"E\"+str(i) for i in range(len(edges_pivot_points))])\n",
    "df_ref_edges = pd.DataFrame(columns=[\"E\"+str(i) for i in range(len(edges_pivot_points))])"
   ]
  },
  {
   "cell_type": "code",
   "execution_count": null,
   "id": "8f6b787c",
   "metadata": {},
   "outputs": [],
   "source": [
    "for i, p in enumerate(edges_pivot_points):\n",
    "        df = pd.DataFrame()\n",
    "        df_ref = pd.DataFrame()\n",
    "        df[\"D_img\"] = np.square(img.reshape((-1, 3)) - np.array(p)).sum(axis=1)\n",
    "        df[\"D_smooth\"] = np.square(img_smooth.reshape((-1, 3)) - np.array(p)).sum(axis=1)\n",
    "        df_ref[\"D_img\"] = np.square(img_ref.reshape((-1, 3)) - np.array(p)).sum(axis=1)\n",
    "        df_ref[\"D_smooth\"] = np.square(img_ref_smooth.reshape((-1, 3)) - np.array(p)).sum(axis=1)\n",
    "\n",
    "        df = df.sort_values(by=[\"D_img\", \"D_smooth\"])\n",
    "        df_ref = df_ref.sort_values(by=[\"D_img\", \"D_smooth\"])\n",
    "\n",
    "        df_edges[\"E\" + str(i)] = df.index\n",
    "        df_ref_edges[\"E\" + str(i)] = df_ref.index"
   ]
  },
  {
   "cell_type": "code",
   "execution_count": null,
   "id": "670885d2",
   "metadata": {},
   "outputs": [],
   "source": [
    "order_with_duplicates = ~pd.Series(df_edges.to_numpy().flatten()).duplicated().to_numpy().reshape(df_edges.shape)\n",
    "order_ref_with_duplicates = ~pd.Series(df_ref_edges.to_numpy().flatten()).duplicated().to_numpy().reshape(df_ref_edges.shape)"
   ]
  },
  {
   "cell_type": "code",
   "execution_count": null,
   "id": "2b963345",
   "metadata": {},
   "outputs": [],
   "source": [
    "n_pixels = img.shape[0]*img.shape[1]\n",
    "for i in range(len(edges_pivot_points)):\n",
    "    nan_tail = np.array((n_pixels - order_with_duplicates[:, i].sum())*[n_pixels])\n",
    "    df_edges[\"E\" + str(i)] = np.append(df_edges[\"E\" + str(i)][order_with_duplicates[:, i]].to_numpy(), nan_tail)\n",
    "\n",
    "    nan_tail = np.array((n_pixels - order_ref_with_duplicates[:, i].sum())*[n_pixels])\n",
    "    df_ref_edges[\"E\" + str(i)] = np.append(df_ref_edges[\"E\" + str(i)][order_ref_with_duplicates[:, i]].to_numpy(), nan_tail)"
   ]
  },
  {
   "cell_type": "code",
   "execution_count": null,
   "id": "f4acc528",
   "metadata": {},
   "outputs": [],
   "source": [
    "order = df_edges.to_numpy().ravel()\n",
    "order = np.unravel_index(order[order != n_pixels], img.shape[:2])\n",
    "\n",
    "order_ref = df_ref_edges.to_numpy().ravel()\n",
    "order_ref = np.unravel_index(order_ref[order_ref != n_pixels], img_ref.shape[:2])\n",
    "\n",
    "img_copy = img.copy()\n",
    "img_copy[order] = img_ref[order_ref]"
   ]
  },
  {
   "cell_type": "code",
   "execution_count": null,
   "id": "8c90db2e",
   "metadata": {},
   "outputs": [],
   "source": [
    "img_copy = cv2.cvtColor(img_copy.astype(dtype=np.uint8), cv2.COLOR_XYZ2RGB)\n",
    "img_ref = img2"
   ]
  },
  {
   "cell_type": "code",
   "execution_count": null,
   "id": "009114fd",
   "metadata": {},
   "outputs": [],
   "source": [
    "fig, axes = plt.subplots(nrows=2, ncols=2, figsize=(10,10))\n",
    "\n",
    "axes[0, 0].imshow(img_ref)\n",
    "axes[0, 1].imshow(img_copy)\n",
    "\n",
    "n_bins = 80\n",
    "\n",
    "for k, c in enumerate([\"r\", \"g\", \"b\"]):\n",
    "    counts, bins = np.histogram(img_ref[:,:,k], bins=n_bins, density=True)\n",
    "    axes[1,0].stairs(counts, bins, color=c)\n",
    "    counts, bins = np.histogram(img_copy[:,:,k], bins=n_bins, density=True)\n",
    "    axes[1,1].stairs(counts, bins, color=c)\n",
    "\n",
    "bins_3d = (20, 20, 20)\n",
    "counts_ref, hist_ref = np.histogramdd(np.array(img_ref).reshape(-1, 3), bins=bins_3d, density=True)\n",
    "counts, hist = np.histogramdd(np.array(img_copy).reshape(-1, 3), bins=bins_3d, density=True)\n",
    "(counts_ref == counts).all() & (np.array(hist)==np.array(hist_ref)).all()"
   ]
  },
  {
   "cell_type": "code",
   "execution_count": null,
   "id": "f4beb305",
   "metadata": {},
   "outputs": [],
   "source": []
  }
 ],
 "metadata": {
  "kernelspec": {
   "display_name": "venv_hist_transfer",
   "language": "python",
   "name": "venv_hist_transfer"
  },
  "language_info": {
   "codemirror_mode": {
    "name": "ipython",
    "version": 3
   },
   "file_extension": ".py",
   "mimetype": "text/x-python",
   "name": "python",
   "nbconvert_exporter": "python",
   "pygments_lexer": "ipython3",
   "version": "3.8.8"
  }
 },
 "nbformat": 4,
 "nbformat_minor": 5
}
